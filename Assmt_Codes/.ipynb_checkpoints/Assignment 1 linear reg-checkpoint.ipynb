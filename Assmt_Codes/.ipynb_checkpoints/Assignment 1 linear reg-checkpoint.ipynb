{
 "cells": [
  {
   "cell_type": "markdown",
   "id": "69ed81b4",
   "metadata": {},
   "source": [
    "                                    Simple Linear Regression Model 1"
   ]
  },
  {
   "cell_type": "code",
   "execution_count": 1,
   "id": "a964a995",
   "metadata": {},
   "outputs": [],
   "source": [
    "# Taking independent variable as SIZE=HEIGHT*WIDTH, PRICE as dependent"
   ]
  },
  {
   "cell_type": "code",
   "execution_count": 2,
   "id": "e12af23b",
   "metadata": {},
   "outputs": [],
   "source": [
    "import pandas as pd"
   ]
  },
  {
   "cell_type": "code",
   "execution_count": 3,
   "id": "7bca205b",
   "metadata": {},
   "outputs": [],
   "source": [
    "import numpy as np"
   ]
  },
  {
   "cell_type": "code",
   "execution_count": 4,
   "id": "a1e879b9",
   "metadata": {},
   "outputs": [],
   "source": [
    "data_set = pd.read_csv(r\"monet.csv\")"
   ]
  },
  {
   "cell_type": "code",
   "execution_count": 5,
   "id": "10a00e9d",
   "metadata": {},
   "outputs": [
    {
     "data": {
      "text/html": [
       "<div>\n",
       "<style scoped>\n",
       "    .dataframe tbody tr th:only-of-type {\n",
       "        vertical-align: middle;\n",
       "    }\n",
       "\n",
       "    .dataframe tbody tr th {\n",
       "        vertical-align: top;\n",
       "    }\n",
       "\n",
       "    .dataframe thead th {\n",
       "        text-align: right;\n",
       "    }\n",
       "</style>\n",
       "<table border=\"1\" class=\"dataframe\">\n",
       "  <thead>\n",
       "    <tr style=\"text-align: right;\">\n",
       "      <th></th>\n",
       "      <th>PRICE</th>\n",
       "      <th>HEIGHT</th>\n",
       "      <th>WIDTH</th>\n",
       "      <th>SIGNED</th>\n",
       "      <th>PICTURE</th>\n",
       "      <th>HOUSE</th>\n",
       "    </tr>\n",
       "  </thead>\n",
       "  <tbody>\n",
       "    <tr>\n",
       "      <th>0</th>\n",
       "      <td>3.993780</td>\n",
       "      <td>21.3</td>\n",
       "      <td>25.6</td>\n",
       "      <td>1</td>\n",
       "      <td>1</td>\n",
       "      <td>1</td>\n",
       "    </tr>\n",
       "    <tr>\n",
       "      <th>1</th>\n",
       "      <td>8.800000</td>\n",
       "      <td>31.9</td>\n",
       "      <td>25.6</td>\n",
       "      <td>1</td>\n",
       "      <td>2</td>\n",
       "      <td>2</td>\n",
       "    </tr>\n",
       "    <tr>\n",
       "      <th>2</th>\n",
       "      <td>0.131694</td>\n",
       "      <td>6.9</td>\n",
       "      <td>15.9</td>\n",
       "      <td>0</td>\n",
       "      <td>3</td>\n",
       "      <td>3</td>\n",
       "    </tr>\n",
       "    <tr>\n",
       "      <th>3</th>\n",
       "      <td>2.037500</td>\n",
       "      <td>25.7</td>\n",
       "      <td>32.0</td>\n",
       "      <td>1</td>\n",
       "      <td>4</td>\n",
       "      <td>2</td>\n",
       "    </tr>\n",
       "    <tr>\n",
       "      <th>4</th>\n",
       "      <td>1.487500</td>\n",
       "      <td>25.7</td>\n",
       "      <td>32.0</td>\n",
       "      <td>1</td>\n",
       "      <td>4</td>\n",
       "      <td>2</td>\n",
       "    </tr>\n",
       "  </tbody>\n",
       "</table>\n",
       "</div>"
      ],
      "text/plain": [
       "      PRICE  HEIGHT  WIDTH  SIGNED  PICTURE  HOUSE \n",
       "0  3.993780    21.3   25.6       1        1       1\n",
       "1  8.800000    31.9   25.6       1        2       2\n",
       "2  0.131694     6.9   15.9       0        3       3\n",
       "3  2.037500    25.7   32.0       1        4       2\n",
       "4  1.487500    25.7   32.0       1        4       2"
      ]
     },
     "execution_count": 5,
     "metadata": {},
     "output_type": "execute_result"
    }
   ],
   "source": [
    "data_set.head()"
   ]
  },
  {
   "cell_type": "code",
   "execution_count": 5,
   "id": "1b1a648d",
   "metadata": {},
   "outputs": [
    {
     "data": {
      "text/html": [
       "<div>\n",
       "<style scoped>\n",
       "    .dataframe tbody tr th:only-of-type {\n",
       "        vertical-align: middle;\n",
       "    }\n",
       "\n",
       "    .dataframe tbody tr th {\n",
       "        vertical-align: top;\n",
       "    }\n",
       "\n",
       "    .dataframe thead th {\n",
       "        text-align: right;\n",
       "    }\n",
       "</style>\n",
       "<table border=\"1\" class=\"dataframe\">\n",
       "  <thead>\n",
       "    <tr style=\"text-align: right;\">\n",
       "      <th></th>\n",
       "      <th>PRICE</th>\n",
       "      <th>HEIGHT</th>\n",
       "      <th>WIDTH</th>\n",
       "      <th>SIGNED</th>\n",
       "      <th>PICTURE</th>\n",
       "      <th>HOUSE</th>\n",
       "    </tr>\n",
       "  </thead>\n",
       "  <tbody>\n",
       "    <tr>\n",
       "      <th>count</th>\n",
       "      <td>430.000000</td>\n",
       "      <td>430.000000</td>\n",
       "      <td>430.000000</td>\n",
       "      <td>430.000000</td>\n",
       "      <td>430.000000</td>\n",
       "      <td>430.000000</td>\n",
       "    </tr>\n",
       "    <tr>\n",
       "      <th>mean</th>\n",
       "      <td>3.089996</td>\n",
       "      <td>27.646977</td>\n",
       "      <td>32.111395</td>\n",
       "      <td>0.820930</td>\n",
       "      <td>182.644186</td>\n",
       "      <td>1.611628</td>\n",
       "    </tr>\n",
       "    <tr>\n",
       "      <th>std</th>\n",
       "      <td>4.311260</td>\n",
       "      <td>10.097013</td>\n",
       "      <td>10.459677</td>\n",
       "      <td>0.383857</td>\n",
       "      <td>109.091529</td>\n",
       "      <td>0.591592</td>\n",
       "    </tr>\n",
       "    <tr>\n",
       "      <th>min</th>\n",
       "      <td>0.010413</td>\n",
       "      <td>3.900000</td>\n",
       "      <td>6.700000</td>\n",
       "      <td>0.000000</td>\n",
       "      <td>1.000000</td>\n",
       "      <td>1.000000</td>\n",
       "    </tr>\n",
       "    <tr>\n",
       "      <th>25%</th>\n",
       "      <td>0.600153</td>\n",
       "      <td>23.125000</td>\n",
       "      <td>28.525000</td>\n",
       "      <td>1.000000</td>\n",
       "      <td>87.250000</td>\n",
       "      <td>1.000000</td>\n",
       "    </tr>\n",
       "    <tr>\n",
       "      <th>50%</th>\n",
       "      <td>1.312782</td>\n",
       "      <td>25.600000</td>\n",
       "      <td>31.900000</td>\n",
       "      <td>1.000000</td>\n",
       "      <td>179.500000</td>\n",
       "      <td>2.000000</td>\n",
       "    </tr>\n",
       "    <tr>\n",
       "      <th>75%</th>\n",
       "      <td>3.850000</td>\n",
       "      <td>31.450000</td>\n",
       "      <td>36.200000</td>\n",
       "      <td>1.000000</td>\n",
       "      <td>274.750000</td>\n",
       "      <td>2.000000</td>\n",
       "    </tr>\n",
       "    <tr>\n",
       "      <th>max</th>\n",
       "      <td>33.013504</td>\n",
       "      <td>78.700000</td>\n",
       "      <td>89.000000</td>\n",
       "      <td>1.000000</td>\n",
       "      <td>387.000000</td>\n",
       "      <td>3.000000</td>\n",
       "    </tr>\n",
       "  </tbody>\n",
       "</table>\n",
       "</div>"
      ],
      "text/plain": [
       "            PRICE      HEIGHT       WIDTH      SIGNED     PICTURE      HOUSE \n",
       "count  430.000000  430.000000  430.000000  430.000000  430.000000  430.000000\n",
       "mean     3.089996   27.646977   32.111395    0.820930  182.644186    1.611628\n",
       "std      4.311260   10.097013   10.459677    0.383857  109.091529    0.591592\n",
       "min      0.010413    3.900000    6.700000    0.000000    1.000000    1.000000\n",
       "25%      0.600153   23.125000   28.525000    1.000000   87.250000    1.000000\n",
       "50%      1.312782   25.600000   31.900000    1.000000  179.500000    2.000000\n",
       "75%      3.850000   31.450000   36.200000    1.000000  274.750000    2.000000\n",
       "max     33.013504   78.700000   89.000000    1.000000  387.000000    3.000000"
      ]
     },
     "execution_count": 5,
     "metadata": {},
     "output_type": "execute_result"
    }
   ],
   "source": [
    "data_set.describe()"
   ]
  },
  {
   "cell_type": "code",
   "execution_count": 6,
   "id": "12547dda",
   "metadata": {},
   "outputs": [],
   "source": [
    "data_set_1 = data_set.copy()"
   ]
  },
  {
   "cell_type": "code",
   "execution_count": 7,
   "id": "fb19c419",
   "metadata": {},
   "outputs": [],
   "source": [
    "data_set_1[\"SIZE\"] = data_set_1[\"HEIGHT\"]*data_set_1[\"WIDTH\"]"
   ]
  },
  {
   "cell_type": "code",
   "execution_count": 8,
   "id": "81abef02",
   "metadata": {},
   "outputs": [
    {
     "data": {
      "text/html": [
       "<div>\n",
       "<style scoped>\n",
       "    .dataframe tbody tr th:only-of-type {\n",
       "        vertical-align: middle;\n",
       "    }\n",
       "\n",
       "    .dataframe tbody tr th {\n",
       "        vertical-align: top;\n",
       "    }\n",
       "\n",
       "    .dataframe thead th {\n",
       "        text-align: right;\n",
       "    }\n",
       "</style>\n",
       "<table border=\"1\" class=\"dataframe\">\n",
       "  <thead>\n",
       "    <tr style=\"text-align: right;\">\n",
       "      <th></th>\n",
       "      <th>PRICE</th>\n",
       "      <th>HEIGHT</th>\n",
       "      <th>WIDTH</th>\n",
       "      <th>SIGNED</th>\n",
       "      <th>PICTURE</th>\n",
       "      <th>HOUSE</th>\n",
       "      <th>SIZE</th>\n",
       "    </tr>\n",
       "  </thead>\n",
       "  <tbody>\n",
       "    <tr>\n",
       "      <th>0</th>\n",
       "      <td>3.993780</td>\n",
       "      <td>21.3</td>\n",
       "      <td>25.6</td>\n",
       "      <td>1</td>\n",
       "      <td>1</td>\n",
       "      <td>1</td>\n",
       "      <td>545.28</td>\n",
       "    </tr>\n",
       "    <tr>\n",
       "      <th>1</th>\n",
       "      <td>8.800000</td>\n",
       "      <td>31.9</td>\n",
       "      <td>25.6</td>\n",
       "      <td>1</td>\n",
       "      <td>2</td>\n",
       "      <td>2</td>\n",
       "      <td>816.64</td>\n",
       "    </tr>\n",
       "    <tr>\n",
       "      <th>2</th>\n",
       "      <td>0.131694</td>\n",
       "      <td>6.9</td>\n",
       "      <td>15.9</td>\n",
       "      <td>0</td>\n",
       "      <td>3</td>\n",
       "      <td>3</td>\n",
       "      <td>109.71</td>\n",
       "    </tr>\n",
       "    <tr>\n",
       "      <th>3</th>\n",
       "      <td>2.037500</td>\n",
       "      <td>25.7</td>\n",
       "      <td>32.0</td>\n",
       "      <td>1</td>\n",
       "      <td>4</td>\n",
       "      <td>2</td>\n",
       "      <td>822.40</td>\n",
       "    </tr>\n",
       "    <tr>\n",
       "      <th>4</th>\n",
       "      <td>1.487500</td>\n",
       "      <td>25.7</td>\n",
       "      <td>32.0</td>\n",
       "      <td>1</td>\n",
       "      <td>4</td>\n",
       "      <td>2</td>\n",
       "      <td>822.40</td>\n",
       "    </tr>\n",
       "  </tbody>\n",
       "</table>\n",
       "</div>"
      ],
      "text/plain": [
       "      PRICE  HEIGHT  WIDTH  SIGNED  PICTURE  HOUSE     SIZE\n",
       "0  3.993780    21.3   25.6       1        1       1  545.28\n",
       "1  8.800000    31.9   25.6       1        2       2  816.64\n",
       "2  0.131694     6.9   15.9       0        3       3  109.71\n",
       "3  2.037500    25.7   32.0       1        4       2  822.40\n",
       "4  1.487500    25.7   32.0       1        4       2  822.40"
      ]
     },
     "execution_count": 8,
     "metadata": {},
     "output_type": "execute_result"
    }
   ],
   "source": [
    "data_set_1.head()"
   ]
  },
  {
   "cell_type": "code",
   "execution_count": 9,
   "id": "a5bfbbab",
   "metadata": {},
   "outputs": [],
   "source": [
    "# Model_1\n",
    "# Here the independent variable is SIZE and dependent is PRICE\n",
    "# Plotting the data"
   ]
  },
  {
   "cell_type": "code",
   "execution_count": 10,
   "id": "19efd65f",
   "metadata": {},
   "outputs": [],
   "source": [
    "data_frame_1 = pd.DataFrame(data=data_set_1)"
   ]
  },
  {
   "cell_type": "code",
   "execution_count": 11,
   "id": "11ef69c5",
   "metadata": {},
   "outputs": [
    {
     "data": {
      "text/plain": [
       "<AxesSubplot:xlabel='SIZE', ylabel='PRICE'>"
      ]
     },
     "execution_count": 11,
     "metadata": {},
     "output_type": "execute_result"
    },
    {
     "data": {
      "image/png": "[encoded data removed]",
      "text/plain": [
       "<Figure size 432x288 with 1 Axes>"
      ]
     },
     "metadata": {
      "needs_background": "light"
     },
     "output_type": "display_data"
    }
   ],
   "source": [
    "data_frame_1.plot.scatter(x=\"SIZE\", y=\"PRICE\", s=50)"
   ]
  },
  {
   "cell_type": "code",
   "execution_count": 12,
   "id": "266ce112",
   "metadata": {},
   "outputs": [],
   "source": [
    "X_1, Y_1 = data_frame_1[\"SIZE\"], data_frame_1[\"PRICE\"]\n",
    "X_1 = X_1.to_numpy().reshape(-1,1)\n",
    "Y_1 = Y_1.to_numpy().reshape(-1,1)"
   ]
  },
  {
   "cell_type": "code",
   "execution_count": 13,
   "id": "c433547b",
   "metadata": {},
   "outputs": [
    {
     "data": {
      "text/plain": [
       "(430, 1)"
      ]
     },
     "execution_count": 13,
     "metadata": {},
     "output_type": "execute_result"
    }
   ],
   "source": [
    "X_1.shape\n",
    "Y_1.shape"
   ]
  },
  {
   "cell_type": "code",
   "execution_count": 14,
   "id": "65e77c96",
   "metadata": {},
   "outputs": [],
   "source": [
    "from sklearn.linear_model import LinearRegression\n",
    "from sklearn.model_selection import train_test_split"
   ]
  },
  {
   "cell_type": "code",
   "execution_count": 15,
   "id": "c8cca7dc",
   "metadata": {},
   "outputs": [],
   "source": [
    "X_train_1, X_test_1, Y_train_1, Y_test_1 = train_test_split(X_1, Y_1, test_size = 0.02)"
   ]
  },
  {
   "cell_type": "code",
   "execution_count": 16,
   "id": "a8acc89c",
   "metadata": {},
   "outputs": [
    {
     "data": {
      "text/plain": [
       "(9, 1)"
      ]
     },
     "execution_count": 16,
     "metadata": {},
     "output_type": "execute_result"
    }
   ],
   "source": [
    "Y_test_1.shape"
   ]
  },
  {
   "cell_type": "code",
   "execution_count": 17,
   "id": "60231898",
   "metadata": {},
   "outputs": [],
   "source": [
    "model_1 = LinearRegression()"
   ]
  },
  {
   "cell_type": "code",
   "execution_count": 18,
   "id": "6d6c8e10",
   "metadata": {},
   "outputs": [
    {
     "data": {
      "text/plain": [
       "LinearRegression()"
      ]
     },
     "execution_count": 18,
     "metadata": {},
     "output_type": "execute_result"
    }
   ],
   "source": [
    "model_1.fit(X_train_1, Y_train_1)"
   ]
  },
  {
   "cell_type": "code",
   "execution_count": 19,
   "id": "ed171db6",
   "metadata": {},
   "outputs": [],
   "source": [
    "predict_1 = model_1.predict(X_test_1)"
   ]
  },
  {
   "cell_type": "code",
   "execution_count": 20,
   "id": "b106735b",
   "metadata": {},
   "outputs": [],
   "source": [
    "theta0 = model_1.intercept_"
   ]
  },
  {
   "cell_type": "code",
   "execution_count": 21,
   "id": "f11fb238",
   "metadata": {},
   "outputs": [],
   "source": [
    "theta1 = model_1.coef_"
   ]
  },
  {
   "cell_type": "code",
   "execution_count": 22,
   "id": "1cc2efc9",
   "metadata": {},
   "outputs": [
    {
     "data": {
      "text/plain": [
       "array([1.03677084])"
      ]
     },
     "execution_count": 22,
     "metadata": {},
     "output_type": "execute_result"
    }
   ],
   "source": [
    "theta0"
   ]
  },
  {
   "cell_type": "code",
   "execution_count": 23,
   "id": "a7c9d91d",
   "metadata": {},
   "outputs": [
    {
     "data": {
      "text/plain": [
       "array([[0.00219027]])"
      ]
     },
     "execution_count": 23,
     "metadata": {},
     "output_type": "execute_result"
    }
   ],
   "source": [
    "theta1"
   ]
  },
  {
   "cell_type": "code",
   "execution_count": 24,
   "id": "dae9a953",
   "metadata": {},
   "outputs": [],
   "source": [
    "# final eq :\n",
    "\n",
    "price_eq = theta0 + theta1*X_1"
   ]
  },
  {
   "cell_type": "code",
   "execution_count": 25,
   "id": "e97b1502",
   "metadata": {},
   "outputs": [
    {
     "data": {
      "text/plain": [
       "(430, 1)"
      ]
     },
     "execution_count": 25,
     "metadata": {},
     "output_type": "execute_result"
    }
   ],
   "source": [
    "price_eq.shape"
   ]
  },
  {
   "cell_type": "code",
   "execution_count": 26,
   "id": "96d5ad4c",
   "metadata": {},
   "outputs": [],
   "source": [
    "import matplotlib.pyplot as plt"
   ]
  },
  {
   "cell_type": "code",
   "execution_count": 27,
   "id": "a7804a2d",
   "metadata": {},
   "outputs": [
    {
     "data": {
      "image/png": "[encoded data removed]",
      "text/plain": [
       "<Figure size 432x288 with 1 Axes>"
      ]
     },
     "metadata": {
      "needs_background": "light"
     },
     "output_type": "display_data"
    }
   ],
   "source": [
    "plt.scatter(X_1, Y_1)\n",
    "plt.plot(X_1, price_eq, c = \"red\")\n",
    "plt.xlabel(\"SIZE\")\n",
    "plt.ylabel(\"PRICE\")\n",
    "plt.title(\"SIZE vs PRICE\")\n",
    "plt.show()"
   ]
  },
  {
   "cell_type": "code",
   "execution_count": 28,
   "id": "5a7d1980",
   "metadata": {},
   "outputs": [
    {
     "data": {
      "text/plain": [
       "(9, 1)"
      ]
     },
     "execution_count": 28,
     "metadata": {},
     "output_type": "execute_result"
    }
   ],
   "source": [
    "predict_1.shape"
   ]
  },
  {
   "cell_type": "code",
   "execution_count": 29,
   "id": "e56bf817",
   "metadata": {},
   "outputs": [
    {
     "data": {
      "text/plain": [
       "(9, 1)"
      ]
     },
     "execution_count": 29,
     "metadata": {},
     "output_type": "execute_result"
    }
   ],
   "source": [
    "X_test_1.shape"
   ]
  },
  {
   "cell_type": "code",
   "execution_count": 30,
   "id": "62608117",
   "metadata": {},
   "outputs": [],
   "source": [
    "# error_diff = abs(Y_1-price_eq)\n",
    "# error_sq = error_diff**2\n",
    "# error_sq_sum = np.sum(error_sq)\n",
    "# error_sq_sum/(Y_1.shape[0])"
   ]
  },
  {
   "cell_type": "code",
   "execution_count": 31,
   "id": "ceda8fd4",
   "metadata": {},
   "outputs": [],
   "source": [
    "from sklearn.metrics import mean_squared_error"
   ]
  },
  {
   "cell_type": "code",
   "execution_count": 32,
   "id": "aec29c7f",
   "metadata": {},
   "outputs": [
    {
     "data": {
      "text/plain": [
       "8.615917195767048"
      ]
     },
     "execution_count": 32,
     "metadata": {},
     "output_type": "execute_result"
    }
   ],
   "source": [
    "mean_squared_error(Y_test_1, predict_1)"
   ]
  },
  {
   "cell_type": "markdown",
   "id": "8daade5e",
   "metadata": {},
   "source": [
    "                                    Simple Linear Regression Model 2"
   ]
  },
  {
   "cell_type": "code",
   "execution_count": 33,
   "id": "4cf3a86d",
   "metadata": {},
   "outputs": [],
   "source": [
    "# Taking independent variable as HEIGHT, PRICE as dependent"
   ]
  },
  {
   "cell_type": "code",
   "execution_count": 34,
   "id": "defc0c0e",
   "metadata": {},
   "outputs": [
    {
     "data": {
      "text/html": [
       "<div>\n",
       "<style scoped>\n",
       "    .dataframe tbody tr th:only-of-type {\n",
       "        vertical-align: middle;\n",
       "    }\n",
       "\n",
       "    .dataframe tbody tr th {\n",
       "        vertical-align: top;\n",
       "    }\n",
       "\n",
       "    .dataframe thead th {\n",
       "        text-align: right;\n",
       "    }\n",
       "</style>\n",
       "<table border=\"1\" class=\"dataframe\">\n",
       "  <thead>\n",
       "    <tr style=\"text-align: right;\">\n",
       "      <th></th>\n",
       "      <th>PRICE</th>\n",
       "      <th>HEIGHT</th>\n",
       "      <th>WIDTH</th>\n",
       "      <th>SIGNED</th>\n",
       "      <th>PICTURE</th>\n",
       "      <th>HOUSE</th>\n",
       "    </tr>\n",
       "  </thead>\n",
       "  <tbody>\n",
       "    <tr>\n",
       "      <th>0</th>\n",
       "      <td>3.993780</td>\n",
       "      <td>21.3</td>\n",
       "      <td>25.6</td>\n",
       "      <td>1</td>\n",
       "      <td>1</td>\n",
       "      <td>1</td>\n",
       "    </tr>\n",
       "    <tr>\n",
       "      <th>1</th>\n",
       "      <td>8.800000</td>\n",
       "      <td>31.9</td>\n",
       "      <td>25.6</td>\n",
       "      <td>1</td>\n",
       "      <td>2</td>\n",
       "      <td>2</td>\n",
       "    </tr>\n",
       "    <tr>\n",
       "      <th>2</th>\n",
       "      <td>0.131694</td>\n",
       "      <td>6.9</td>\n",
       "      <td>15.9</td>\n",
       "      <td>0</td>\n",
       "      <td>3</td>\n",
       "      <td>3</td>\n",
       "    </tr>\n",
       "    <tr>\n",
       "      <th>3</th>\n",
       "      <td>2.037500</td>\n",
       "      <td>25.7</td>\n",
       "      <td>32.0</td>\n",
       "      <td>1</td>\n",
       "      <td>4</td>\n",
       "      <td>2</td>\n",
       "    </tr>\n",
       "    <tr>\n",
       "      <th>4</th>\n",
       "      <td>1.487500</td>\n",
       "      <td>25.7</td>\n",
       "      <td>32.0</td>\n",
       "      <td>1</td>\n",
       "      <td>4</td>\n",
       "      <td>2</td>\n",
       "    </tr>\n",
       "  </tbody>\n",
       "</table>\n",
       "</div>"
      ],
      "text/plain": [
       "      PRICE  HEIGHT  WIDTH  SIGNED  PICTURE  HOUSE \n",
       "0  3.993780    21.3   25.6       1        1       1\n",
       "1  8.800000    31.9   25.6       1        2       2\n",
       "2  0.131694     6.9   15.9       0        3       3\n",
       "3  2.037500    25.7   32.0       1        4       2\n",
       "4  1.487500    25.7   32.0       1        4       2"
      ]
     },
     "execution_count": 34,
     "metadata": {},
     "output_type": "execute_result"
    }
   ],
   "source": [
    "data_set_2 = data_set.copy()\n",
    "data_set_2.head()"
   ]
  },
  {
   "cell_type": "code",
   "execution_count": 35,
   "id": "64b83361",
   "metadata": {},
   "outputs": [
    {
     "data": {
      "text/plain": [
       "(430, 1)"
      ]
     },
     "execution_count": 35,
     "metadata": {},
     "output_type": "execute_result"
    }
   ],
   "source": [
    "X_2 = data_set_2.iloc[:, 1:2].values\n",
    "X_2.shape"
   ]
  },
  {
   "cell_type": "code",
   "execution_count": 36,
   "id": "088a42df",
   "metadata": {},
   "outputs": [
    {
     "data": {
      "text/plain": [
       "(430, 1)"
      ]
     },
     "execution_count": 36,
     "metadata": {},
     "output_type": "execute_result"
    }
   ],
   "source": [
    "Y_2 = data_set_2.iloc[:, 0:1].values\n",
    "Y_2.shape"
   ]
  },
  {
   "cell_type": "code",
   "execution_count": 37,
   "id": "5c04adaf",
   "metadata": {},
   "outputs": [
    {
     "data": {
      "image/png": "[encoded data removed]",
      "text/plain": [
       "<Figure size 432x288 with 1 Axes>"
      ]
     },
     "metadata": {
      "needs_background": "light"
     },
     "output_type": "display_data"
    }
   ],
   "source": [
    "plt.scatter(X_2, Y_2)\n",
    "plt.xlabel(\"Height\")\n",
    "plt.ylabel(\"Price\")\n",
    "plt.title(\"HEIGHT vs PRICE\")\n",
    "plt.show()"
   ]
  },
  {
   "cell_type": "code",
   "execution_count": 38,
   "id": "58995d28",
   "metadata": {},
   "outputs": [],
   "source": [
    "X_train_2, X_test_2, Y_train_2, Y_test_2 = train_test_split(X_2, Y_2, test_size = 0.05)"
   ]
  },
  {
   "cell_type": "code",
   "execution_count": 39,
   "id": "9a15bfee",
   "metadata": {},
   "outputs": [
    {
     "name": "stdout",
     "output_type": "stream",
     "text": [
      "[0.00068845] [0.11401778]\n"
     ]
    }
   ],
   "source": [
    "theta0 = 0\n",
    "theta1 = 0\n",
    "alpha = 0.0001 # learning rate\n",
    "m = float(len(X_train_2))\n",
    "for x in range(len(X_train_2)):\n",
    "    pred_val = theta0 + theta1*X_train_2\n",
    "    diff_intercept = (-1/m) * (sum(Y_train_2 - pred_val)) # Actual - pred\n",
    "    diff_slope = (-1/m) * (sum((Y_train_2 - pred_val) * X_train_2))\n",
    "    theta0 = theta0 - alpha*diff_intercept\n",
    "    theta1 = theta1 - alpha*diff_slope\n",
    "print(theta0, theta1)"
   ]
  },
  {
   "cell_type": "code",
   "execution_count": 40,
   "id": "6e00b92d",
   "metadata": {},
   "outputs": [],
   "source": [
    "model_2_eq_pred = theta0 + theta1*X_train_2"
   ]
  },
  {
   "cell_type": "code",
   "execution_count": 41,
   "id": "eb1051d2",
   "metadata": {},
   "outputs": [
    {
     "data": {
      "image/png": "[encoded data removed]",
      "text/plain": [
       "<Figure size 432x288 with 1 Axes>"
      ]
     },
     "metadata": {
      "needs_background": "light"
     },
     "output_type": "display_data"
    }
   ],
   "source": [
    "plt.scatter(X_2, Y_2)\n",
    "plt.plot(X_train_2, model_2_eq_pred, c = \"red\")\n",
    "plt.xlabel(\"HEIGHT\")\n",
    "plt.ylabel(\"PRICE\")\n",
    "plt.title(\"Height vs Price\")\n",
    "plt.show()"
   ]
  },
  {
   "cell_type": "code",
   "execution_count": 42,
   "id": "b688e1af",
   "metadata": {},
   "outputs": [],
   "source": [
    "predict_test = theta0 + theta1*X_test_2"
   ]
  },
  {
   "cell_type": "code",
   "execution_count": 43,
   "id": "bf3a4621",
   "metadata": {},
   "outputs": [
    {
     "data": {
      "text/plain": [
       "20.659712162567875"
      ]
     },
     "execution_count": 43,
     "metadata": {},
     "output_type": "execute_result"
    }
   ],
   "source": [
    "mean_squared_error(Y_test_2, predict_test)"
   ]
  },
  {
   "cell_type": "markdown",
   "id": "05023e27",
   "metadata": {},
   "source": [
    "                                        MultiLinear Regression Model"
   ]
  },
  {
   "cell_type": "code",
   "execution_count": 6,
   "id": "000e880f",
   "metadata": {},
   "outputs": [],
   "source": [
    "data_set_3 = data_set.copy()"
   ]
  },
  {
   "cell_type": "code",
   "execution_count": 7,
   "id": "0e9e5149",
   "metadata": {},
   "outputs": [
    {
     "data": {
      "text/html": [
       "<div>\n",
       "<style scoped>\n",
       "    .dataframe tbody tr th:only-of-type {\n",
       "        vertical-align: middle;\n",
       "    }\n",
       "\n",
       "    .dataframe tbody tr th {\n",
       "        vertical-align: top;\n",
       "    }\n",
       "\n",
       "    .dataframe thead th {\n",
       "        text-align: right;\n",
       "    }\n",
       "</style>\n",
       "<table border=\"1\" class=\"dataframe\">\n",
       "  <thead>\n",
       "    <tr style=\"text-align: right;\">\n",
       "      <th></th>\n",
       "      <th>PRICE</th>\n",
       "      <th>HEIGHT</th>\n",
       "      <th>WIDTH</th>\n",
       "      <th>SIGNED</th>\n",
       "      <th>PICTURE</th>\n",
       "      <th>HOUSE</th>\n",
       "    </tr>\n",
       "  </thead>\n",
       "  <tbody>\n",
       "    <tr>\n",
       "      <th>0</th>\n",
       "      <td>3.993780</td>\n",
       "      <td>21.3</td>\n",
       "      <td>25.6</td>\n",
       "      <td>1</td>\n",
       "      <td>1</td>\n",
       "      <td>1</td>\n",
       "    </tr>\n",
       "    <tr>\n",
       "      <th>1</th>\n",
       "      <td>8.800000</td>\n",
       "      <td>31.9</td>\n",
       "      <td>25.6</td>\n",
       "      <td>1</td>\n",
       "      <td>2</td>\n",
       "      <td>2</td>\n",
       "    </tr>\n",
       "    <tr>\n",
       "      <th>2</th>\n",
       "      <td>0.131694</td>\n",
       "      <td>6.9</td>\n",
       "      <td>15.9</td>\n",
       "      <td>0</td>\n",
       "      <td>3</td>\n",
       "      <td>3</td>\n",
       "    </tr>\n",
       "    <tr>\n",
       "      <th>3</th>\n",
       "      <td>2.037500</td>\n",
       "      <td>25.7</td>\n",
       "      <td>32.0</td>\n",
       "      <td>1</td>\n",
       "      <td>4</td>\n",
       "      <td>2</td>\n",
       "    </tr>\n",
       "    <tr>\n",
       "      <th>4</th>\n",
       "      <td>1.487500</td>\n",
       "      <td>25.7</td>\n",
       "      <td>32.0</td>\n",
       "      <td>1</td>\n",
       "      <td>4</td>\n",
       "      <td>2</td>\n",
       "    </tr>\n",
       "  </tbody>\n",
       "</table>\n",
       "</div>"
      ],
      "text/plain": [
       "      PRICE  HEIGHT  WIDTH  SIGNED  PICTURE  HOUSE \n",
       "0  3.993780    21.3   25.6       1        1       1\n",
       "1  8.800000    31.9   25.6       1        2       2\n",
       "2  0.131694     6.9   15.9       0        3       3\n",
       "3  2.037500    25.7   32.0       1        4       2\n",
       "4  1.487500    25.7   32.0       1        4       2"
      ]
     },
     "execution_count": 7,
     "metadata": {},
     "output_type": "execute_result"
    }
   ],
   "source": [
    "data_set_3.head()"
   ]
  },
  {
   "cell_type": "code",
   "execution_count": 8,
   "id": "071f6cb7",
   "metadata": {},
   "outputs": [
    {
     "data": {
      "text/html": [
       "<div>\n",
       "<style scoped>\n",
       "    .dataframe tbody tr th:only-of-type {\n",
       "        vertical-align: middle;\n",
       "    }\n",
       "\n",
       "    .dataframe tbody tr th {\n",
       "        vertical-align: top;\n",
       "    }\n",
       "\n",
       "    .dataframe thead th {\n",
       "        text-align: right;\n",
       "    }\n",
       "</style>\n",
       "<table border=\"1\" class=\"dataframe\">\n",
       "  <thead>\n",
       "    <tr style=\"text-align: right;\">\n",
       "      <th></th>\n",
       "      <th>PRICE</th>\n",
       "      <th>HEIGHT</th>\n",
       "      <th>WIDTH</th>\n",
       "      <th>SIGNED</th>\n",
       "      <th>PICTURE</th>\n",
       "      <th>HOUSE</th>\n",
       "    </tr>\n",
       "  </thead>\n",
       "  <tbody>\n",
       "    <tr>\n",
       "      <th>0</th>\n",
       "      <td>0.120697</td>\n",
       "      <td>0.232620</td>\n",
       "      <td>0.229648</td>\n",
       "      <td>1.0</td>\n",
       "      <td>0.000000</td>\n",
       "      <td>0.0</td>\n",
       "    </tr>\n",
       "    <tr>\n",
       "      <th>1</th>\n",
       "      <td>0.266326</td>\n",
       "      <td>0.374332</td>\n",
       "      <td>0.229648</td>\n",
       "      <td>1.0</td>\n",
       "      <td>0.002591</td>\n",
       "      <td>0.5</td>\n",
       "    </tr>\n",
       "    <tr>\n",
       "      <th>2</th>\n",
       "      <td>0.003675</td>\n",
       "      <td>0.040107</td>\n",
       "      <td>0.111786</td>\n",
       "      <td>0.0</td>\n",
       "      <td>0.005181</td>\n",
       "      <td>1.0</td>\n",
       "    </tr>\n",
       "    <tr>\n",
       "      <th>3</th>\n",
       "      <td>0.061421</td>\n",
       "      <td>0.291444</td>\n",
       "      <td>0.307412</td>\n",
       "      <td>1.0</td>\n",
       "      <td>0.007772</td>\n",
       "      <td>0.5</td>\n",
       "    </tr>\n",
       "    <tr>\n",
       "      <th>4</th>\n",
       "      <td>0.044756</td>\n",
       "      <td>0.291444</td>\n",
       "      <td>0.307412</td>\n",
       "      <td>1.0</td>\n",
       "      <td>0.007772</td>\n",
       "      <td>0.5</td>\n",
       "    </tr>\n",
       "  </tbody>\n",
       "</table>\n",
       "</div>"
      ],
      "text/plain": [
       "      PRICE    HEIGHT     WIDTH  SIGNED   PICTURE  HOUSE \n",
       "0  0.120697  0.232620  0.229648     1.0  0.000000     0.0\n",
       "1  0.266326  0.374332  0.229648     1.0  0.002591     0.5\n",
       "2  0.003675  0.040107  0.111786     0.0  0.005181     1.0\n",
       "3  0.061421  0.291444  0.307412     1.0  0.007772     0.5\n",
       "4  0.044756  0.291444  0.307412     1.0  0.007772     0.5"
      ]
     },
     "execution_count": 8,
     "metadata": {},
     "output_type": "execute_result"
    }
   ],
   "source": [
    "# Normalization of raw data using min-max feature scaling\n",
    "\n",
    "for column in data_set_3:\n",
    "    data_set_3[column] = (data_set_3[column] - data_set_3[column].min())/(data_set_3[column].max() - data_set_3[column].min())\n",
    "data_set_3.head()"
   ]
  },
  {
   "cell_type": "code",
   "execution_count": 9,
   "id": "9c33fa57",
   "metadata": {},
   "outputs": [
    {
     "data": {
      "text/html": [
       "<div>\n",
       "<style scoped>\n",
       "    .dataframe tbody tr th:only-of-type {\n",
       "        vertical-align: middle;\n",
       "    }\n",
       "\n",
       "    .dataframe tbody tr th {\n",
       "        vertical-align: top;\n",
       "    }\n",
       "\n",
       "    .dataframe thead th {\n",
       "        text-align: right;\n",
       "    }\n",
       "</style>\n",
       "<table border=\"1\" class=\"dataframe\">\n",
       "  <thead>\n",
       "    <tr style=\"text-align: right;\">\n",
       "      <th></th>\n",
       "      <th>PRICE</th>\n",
       "    </tr>\n",
       "  </thead>\n",
       "  <tbody>\n",
       "    <tr>\n",
       "      <th>0</th>\n",
       "      <td>0.120697</td>\n",
       "    </tr>\n",
       "    <tr>\n",
       "      <th>1</th>\n",
       "      <td>0.266326</td>\n",
       "    </tr>\n",
       "    <tr>\n",
       "      <th>2</th>\n",
       "      <td>0.003675</td>\n",
       "    </tr>\n",
       "    <tr>\n",
       "      <th>3</th>\n",
       "      <td>0.061421</td>\n",
       "    </tr>\n",
       "    <tr>\n",
       "      <th>4</th>\n",
       "      <td>0.044756</td>\n",
       "    </tr>\n",
       "    <tr>\n",
       "      <th>...</th>\n",
       "      <td>...</td>\n",
       "    </tr>\n",
       "    <tr>\n",
       "      <th>425</th>\n",
       "      <td>0.159745</td>\n",
       "    </tr>\n",
       "    <tr>\n",
       "      <th>426</th>\n",
       "      <td>0.283067</td>\n",
       "    </tr>\n",
       "    <tr>\n",
       "      <th>427</th>\n",
       "      <td>0.249737</td>\n",
       "    </tr>\n",
       "    <tr>\n",
       "      <th>428</th>\n",
       "      <td>0.103008</td>\n",
       "    </tr>\n",
       "    <tr>\n",
       "      <th>429</th>\n",
       "      <td>0.046423</td>\n",
       "    </tr>\n",
       "  </tbody>\n",
       "</table>\n",
       "<p>430 rows × 1 columns</p>\n",
       "</div>"
      ],
      "text/plain": [
       "        PRICE\n",
       "0    0.120697\n",
       "1    0.266326\n",
       "2    0.003675\n",
       "3    0.061421\n",
       "4    0.044756\n",
       "..        ...\n",
       "425  0.159745\n",
       "426  0.283067\n",
       "427  0.249737\n",
       "428  0.103008\n",
       "429  0.046423\n",
       "\n",
       "[430 rows x 1 columns]"
      ]
     },
     "execution_count": 9,
     "metadata": {},
     "output_type": "execute_result"
    }
   ],
   "source": [
    "Y_3_price = data_set_3.iloc[:, 0:1]\n",
    "Y_3_price"
   ]
  },
  {
   "cell_type": "code",
   "execution_count": 10,
   "id": "6399a213",
   "metadata": {},
   "outputs": [],
   "source": [
    "X_3_independent = data_set_3.iloc[:, 1:4]"
   ]
  },
  {
   "cell_type": "code",
   "execution_count": 11,
   "id": "15c1afa6",
   "metadata": {},
   "outputs": [
    {
     "data": {
      "text/html": [
       "<div>\n",
       "<style scoped>\n",
       "    .dataframe tbody tr th:only-of-type {\n",
       "        vertical-align: middle;\n",
       "    }\n",
       "\n",
       "    .dataframe tbody tr th {\n",
       "        vertical-align: top;\n",
       "    }\n",
       "\n",
       "    .dataframe thead th {\n",
       "        text-align: right;\n",
       "    }\n",
       "</style>\n",
       "<table border=\"1\" class=\"dataframe\">\n",
       "  <thead>\n",
       "    <tr style=\"text-align: right;\">\n",
       "      <th></th>\n",
       "      <th>HEIGHT</th>\n",
       "      <th>WIDTH</th>\n",
       "      <th>SIGNED</th>\n",
       "    </tr>\n",
       "  </thead>\n",
       "  <tbody>\n",
       "    <tr>\n",
       "      <th>0</th>\n",
       "      <td>0.232620</td>\n",
       "      <td>0.229648</td>\n",
       "      <td>1.0</td>\n",
       "    </tr>\n",
       "    <tr>\n",
       "      <th>1</th>\n",
       "      <td>0.374332</td>\n",
       "      <td>0.229648</td>\n",
       "      <td>1.0</td>\n",
       "    </tr>\n",
       "    <tr>\n",
       "      <th>2</th>\n",
       "      <td>0.040107</td>\n",
       "      <td>0.111786</td>\n",
       "      <td>0.0</td>\n",
       "    </tr>\n",
       "    <tr>\n",
       "      <th>3</th>\n",
       "      <td>0.291444</td>\n",
       "      <td>0.307412</td>\n",
       "      <td>1.0</td>\n",
       "    </tr>\n",
       "    <tr>\n",
       "      <th>4</th>\n",
       "      <td>0.291444</td>\n",
       "      <td>0.307412</td>\n",
       "      <td>1.0</td>\n",
       "    </tr>\n",
       "    <tr>\n",
       "      <th>...</th>\n",
       "      <td>...</td>\n",
       "      <td>...</td>\n",
       "      <td>...</td>\n",
       "    </tr>\n",
       "    <tr>\n",
       "      <th>425</th>\n",
       "      <td>0.290107</td>\n",
       "      <td>0.397327</td>\n",
       "      <td>1.0</td>\n",
       "    </tr>\n",
       "    <tr>\n",
       "      <th>426</th>\n",
       "      <td>0.294118</td>\n",
       "      <td>0.399757</td>\n",
       "      <td>1.0</td>\n",
       "    </tr>\n",
       "    <tr>\n",
       "      <th>427</th>\n",
       "      <td>0.290107</td>\n",
       "      <td>0.399757</td>\n",
       "      <td>1.0</td>\n",
       "    </tr>\n",
       "    <tr>\n",
       "      <th>428</th>\n",
       "      <td>0.290107</td>\n",
       "      <td>0.397327</td>\n",
       "      <td>1.0</td>\n",
       "    </tr>\n",
       "    <tr>\n",
       "      <th>429</th>\n",
       "      <td>0.291444</td>\n",
       "      <td>0.307412</td>\n",
       "      <td>1.0</td>\n",
       "    </tr>\n",
       "  </tbody>\n",
       "</table>\n",
       "<p>430 rows × 3 columns</p>\n",
       "</div>"
      ],
      "text/plain": [
       "       HEIGHT     WIDTH  SIGNED\n",
       "0    0.232620  0.229648     1.0\n",
       "1    0.374332  0.229648     1.0\n",
       "2    0.040107  0.111786     0.0\n",
       "3    0.291444  0.307412     1.0\n",
       "4    0.291444  0.307412     1.0\n",
       "..        ...       ...     ...\n",
       "425  0.290107  0.397327     1.0\n",
       "426  0.294118  0.399757     1.0\n",
       "427  0.290107  0.399757     1.0\n",
       "428  0.290107  0.397327     1.0\n",
       "429  0.291444  0.307412     1.0\n",
       "\n",
       "[430 rows x 3 columns]"
      ]
     },
     "execution_count": 11,
     "metadata": {},
     "output_type": "execute_result"
    }
   ],
   "source": [
    "X_3_independent"
   ]
  },
  {
   "cell_type": "code",
   "execution_count": 13,
   "id": "0413b061",
   "metadata": {},
   "outputs": [],
   "source": [
    "from sklearn.linear_model import LinearRegression\n",
    "from sklearn.model_selection import train_test_split\n",
    "X_train_3, X_test_3, Y_train_3, Y_test_3 = train_test_split(X_3_independent, Y_3_price, test_size = 0.05)"
   ]
  },
  {
   "cell_type": "code",
   "execution_count": 14,
   "id": "ec294976",
   "metadata": {},
   "outputs": [
    {
     "data": {
      "text/html": [
       "<div>\n",
       "<style scoped>\n",
       "    .dataframe tbody tr th:only-of-type {\n",
       "        vertical-align: middle;\n",
       "    }\n",
       "\n",
       "    .dataframe tbody tr th {\n",
       "        vertical-align: top;\n",
       "    }\n",
       "\n",
       "    .dataframe thead th {\n",
       "        text-align: right;\n",
       "    }\n",
       "</style>\n",
       "<table border=\"1\" class=\"dataframe\">\n",
       "  <thead>\n",
       "    <tr style=\"text-align: right;\">\n",
       "      <th></th>\n",
       "      <th>HEIGHT</th>\n",
       "      <th>WIDTH</th>\n",
       "      <th>SIGNED</th>\n",
       "    </tr>\n",
       "  </thead>\n",
       "  <tbody>\n",
       "    <tr>\n",
       "      <th>228</th>\n",
       "      <td>0.157754</td>\n",
       "      <td>0.295261</td>\n",
       "      <td>1.0</td>\n",
       "    </tr>\n",
       "    <tr>\n",
       "      <th>96</th>\n",
       "      <td>0.263369</td>\n",
       "      <td>0.267315</td>\n",
       "      <td>0.0</td>\n",
       "    </tr>\n",
       "    <tr>\n",
       "      <th>11</th>\n",
       "      <td>0.290107</td>\n",
       "      <td>0.358445</td>\n",
       "      <td>1.0</td>\n",
       "    </tr>\n",
       "    <tr>\n",
       "      <th>207</th>\n",
       "      <td>0.331551</td>\n",
       "      <td>0.397327</td>\n",
       "      <td>1.0</td>\n",
       "    </tr>\n",
       "    <tr>\n",
       "      <th>4</th>\n",
       "      <td>0.291444</td>\n",
       "      <td>0.307412</td>\n",
       "      <td>1.0</td>\n",
       "    </tr>\n",
       "    <tr>\n",
       "      <th>...</th>\n",
       "      <td>...</td>\n",
       "      <td>...</td>\n",
       "      <td>...</td>\n",
       "    </tr>\n",
       "    <tr>\n",
       "      <th>309</th>\n",
       "      <td>0.189840</td>\n",
       "      <td>0.270960</td>\n",
       "      <td>1.0</td>\n",
       "    </tr>\n",
       "    <tr>\n",
       "      <th>87</th>\n",
       "      <td>0.263369</td>\n",
       "      <td>0.267315</td>\n",
       "      <td>0.0</td>\n",
       "    </tr>\n",
       "    <tr>\n",
       "      <th>293</th>\n",
       "      <td>0.290107</td>\n",
       "      <td>0.358445</td>\n",
       "      <td>1.0</td>\n",
       "    </tr>\n",
       "    <tr>\n",
       "      <th>421</th>\n",
       "      <td>0.232620</td>\n",
       "      <td>0.269745</td>\n",
       "      <td>1.0</td>\n",
       "    </tr>\n",
       "    <tr>\n",
       "      <th>299</th>\n",
       "      <td>0.009358</td>\n",
       "      <td>0.009721</td>\n",
       "      <td>1.0</td>\n",
       "    </tr>\n",
       "  </tbody>\n",
       "</table>\n",
       "<p>408 rows × 3 columns</p>\n",
       "</div>"
      ],
      "text/plain": [
       "       HEIGHT     WIDTH  SIGNED\n",
       "228  0.157754  0.295261     1.0\n",
       "96   0.263369  0.267315     0.0\n",
       "11   0.290107  0.358445     1.0\n",
       "207  0.331551  0.397327     1.0\n",
       "4    0.291444  0.307412     1.0\n",
       "..        ...       ...     ...\n",
       "309  0.189840  0.270960     1.0\n",
       "87   0.263369  0.267315     0.0\n",
       "293  0.290107  0.358445     1.0\n",
       "421  0.232620  0.269745     1.0\n",
       "299  0.009358  0.009721     1.0\n",
       "\n",
       "[408 rows x 3 columns]"
      ]
     },
     "execution_count": 14,
     "metadata": {},
     "output_type": "execute_result"
    }
   ],
   "source": [
    "X_train_3"
   ]
  },
  {
   "cell_type": "code",
   "execution_count": 15,
   "id": "d0c11479",
   "metadata": {},
   "outputs": [],
   "source": [
    "model_3 = LinearRegression()"
   ]
  },
  {
   "cell_type": "code",
   "execution_count": 16,
   "id": "d8e60889",
   "metadata": {},
   "outputs": [
    {
     "data": {
      "text/plain": [
       "LinearRegression()"
      ]
     },
     "execution_count": 16,
     "metadata": {},
     "output_type": "execute_result"
    }
   ],
   "source": [
    "model_3.fit(X_train_3, Y_train_3)"
   ]
  },
  {
   "cell_type": "code",
   "execution_count": 17,
   "id": "15877e30",
   "metadata": {},
   "outputs": [
    {
     "data": {
      "text/plain": [
       "(22, 1)"
      ]
     },
     "execution_count": 17,
     "metadata": {},
     "output_type": "execute_result"
    }
   ],
   "source": [
    "predict_3 = model_3.predict(X_test_3)\n",
    "predict_3.shape"
   ]
  },
  {
   "cell_type": "code",
   "execution_count": 18,
   "id": "473c5620",
   "metadata": {},
   "outputs": [
    {
     "data": {
      "text/plain": [
       "array([[0.14453172],\n",
       "       [0.06867018],\n",
       "       [0.09116258],\n",
       "       [0.11761322],\n",
       "       [0.09770151],\n",
       "       [0.09759698],\n",
       "       [0.03955659],\n",
       "       [0.0584453 ],\n",
       "       [0.07917094],\n",
       "       [0.09297034],\n",
       "       [0.07803656],\n",
       "       [0.09782832],\n",
       "       [0.12438353],\n",
       "       [0.10164958],\n",
       "       [0.09759698],\n",
       "       [0.13252987],\n",
       "       [0.10869753],\n",
       "       [0.09736565],\n",
       "       [0.13470953],\n",
       "       [0.04176198],\n",
       "       [0.07689191],\n",
       "       [0.11203896]])"
      ]
     },
     "execution_count": 18,
     "metadata": {},
     "output_type": "execute_result"
    }
   ],
   "source": [
    "predict_3"
   ]
  },
  {
   "cell_type": "code",
   "execution_count": 55,
   "id": "c74259f0",
   "metadata": {},
   "outputs": [
    {
     "data": {
      "text/plain": [
       "array([-0.10715037])"
      ]
     },
     "execution_count": 55,
     "metadata": {},
     "output_type": "execute_result"
    }
   ],
   "source": [
    "theta0 = model_3.intercept_\n",
    "theta0"
   ]
  },
  {
   "cell_type": "code",
   "execution_count": 56,
   "id": "bf834cd1",
   "metadata": {},
   "outputs": [
    {
     "data": {
      "text/plain": [
       "array([[0.20512497, 0.258448  , 0.06642157]])"
      ]
     },
     "execution_count": 56,
     "metadata": {},
     "output_type": "execute_result"
    }
   ],
   "source": [
    "theta1 = model_3.coef_\n",
    "theta1"
   ]
  },
  {
   "cell_type": "code",
   "execution_count": 57,
   "id": "6f708c6f",
   "metadata": {},
   "outputs": [
    {
     "data": {
      "text/plain": [
       "0.019940614729299828"
      ]
     },
     "execution_count": 57,
     "metadata": {},
     "output_type": "execute_result"
    }
   ],
   "source": [
    "mean_squared_error(Y_test_3, predict_3)"
   ]
  },
  {
   "cell_type": "code",
   "execution_count": null,
   "id": "df45b83a",
   "metadata": {},
   "outputs": [],
   "source": []
  },
  {
   "cell_type": "code",
   "execution_count": null,
   "id": "65acd15b",
   "metadata": {},
   "outputs": [],
   "source": []
  },
  {
   "cell_type": "code",
   "execution_count": null,
   "id": "0a43094f",
   "metadata": {},
   "outputs": [],
   "source": []
  },
  {
   "cell_type": "code",
   "execution_count": null,
   "id": "9644e604",
   "metadata": {},
   "outputs": [],
   "source": []
  }
 ],
 "metadata": {
  "kernelspec": {
   "display_name": "Python 3 (ipykernel)",
   "language": "python",
   "name": "python3"
  },
  "language_info": {
   "codemirror_mode": {
    "name": "ipython",
    "version": 3
   },
   "file_extension": ".py",
   "mimetype": "text/x-python",
   "name": "python",
   "nbconvert_exporter": "python",
   "pygments_lexer": "ipython3",
   "version": "3.9.12"
  }
 },
 "nbformat": 4,
 "nbformat_minor": 5
}
