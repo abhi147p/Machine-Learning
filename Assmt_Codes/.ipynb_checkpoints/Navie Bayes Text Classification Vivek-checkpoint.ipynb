{
 "cells": [
  {
   "cell_type": "code",
   "execution_count": 22,
   "id": "2f56ca98",
   "metadata": {},
   "outputs": [],
   "source": [
    "# Created read_Document function to read txt file and seperate document and labels from the text document.\n",
    "\n",
    "\n",
    "def read_documents(doc_file):\n",
    "    docs = []\n",
    "    labels = []\n",
    "    with open(doc_file, encoding='utf-8') as f:\n",
    "        for line in f:\n",
    "            words = line.strip().split()\n",
    "            docs.append(words[3:])\n",
    "            labels.append(words[1])\n",
    "    return docs, labels"
   ]
  },
  {
   "cell_type": "code",
   "execution_count": 23,
   "id": "8e4f42a7",
   "metadata": {},
   "outputs": [],
   "source": [
    "all_docs, all_labels = read_documents('all_sentiment_shuffled.txt')\n",
    "\n",
    "# splitting document and labels into training and testing data with training size of 80%\n",
    "split_point = int(0.80*len(all_docs))\n",
    "train_docs = all_docs[:split_point]\n",
    "train_labels = all_labels[:split_point]  \n",
    "eval_docs = all_docs[split_point:]\n",
    "eval_labels = all_labels[split_point:]"
   ]
  },
  {
   "cell_type": "code",
   "execution_count": 24,
   "id": "4926a3e7",
   "metadata": {},
   "outputs": [],
   "source": [
    "# created a function unique it creates a list of unique words from txt file.\n",
    "\n",
    "def unique(doc):\n",
    "    x =[]\n",
    "    for i in doc:\n",
    "        for j in i:\n",
    "            if j in x:\n",
    "                continue\n",
    "            else:\n",
    "                x.append(j)\n",
    "    return x\n"
   ]
  },
  {
   "cell_type": "code",
   "execution_count": 25,
   "id": "ebba4179",
   "metadata": {},
   "outputs": [],
   "source": [
    "unique_values=unique(all_docs)"
   ]
  },
  {
   "cell_type": "code",
   "execution_count": 26,
   "id": "a67494af",
   "metadata": {},
   "outputs": [],
   "source": [
    "# created a function train_nb to find the probability of each unique word (i,e for possitive and negative sentences)\n",
    "# function returns possitive probability list and negative probablity list of unique words\n",
    "\n",
    "def train_nb(documents, labels,unique_values):\n",
    "    poss=labels.count('pos')\n",
    "    neg = labels.count('neg')\n",
    "    pprob=[]\n",
    "    nprob=[]\n",
    "    for i in unique_values:\n",
    "        #print(type(i))\n",
    "        passcount=0\n",
    "        negcount=0\n",
    "        for d in range(len(labels)):\n",
    "            for x in documents[d]:\n",
    "                #print(i,x)\n",
    "                if i==x and labels[d]==\"pos\":\n",
    "                    passcount+=1\n",
    "                    \n",
    "                elif i==x and labels[d]==\"neg\":\n",
    "                    negcount+=1\n",
    "                    \n",
    "                else:\n",
    "                    continue\n",
    "        po = (passcount/poss)*(poss/len(labels))\n",
    "        no = (negcount/neg)*(neg/len(labels))\n",
    "        p = po/(po+no)\n",
    "        n = no/(no+po)\n",
    "        pprob.append(p)\n",
    "        nprob.append(n)\n",
    "    return pprob,nprob"
   ]
  },
  {
   "cell_type": "code",
   "execution_count": 27,
   "id": "223ee546",
   "metadata": {},
   "outputs": [],
   "source": [
    "pprob, nprob = train_nb(all_docs,all_labels,unique_values)\n"
   ]
  },
  {
   "cell_type": "code",
   "execution_count": 28,
   "id": "e698381b",
   "metadata": {},
   "outputs": [],
   "source": [
    "#created a train function to predict the evaluation data.\n",
    "\n",
    "def predict(doc,pprob,nprob,uni):\n",
    "    \n",
    "    pred=[]\n",
    "    for i in doc:\n",
    "        pos =0\n",
    "        neg=0\n",
    "        for j in i:\n",
    "            if j in uni:\n",
    "                ind = uni.index(j)\n",
    "            else :\n",
    "                continue\n",
    "            pos+=pprob[ind]\n",
    "            neg+=nprob[ind]\n",
    "            \n",
    "        if pos>neg:\n",
    "            pred.append(\"pos\")\n",
    "        else:\n",
    "            pred.append(\"neg\")\n",
    "        \n",
    "    return pred"
   ]
  },
  {
   "cell_type": "code",
   "execution_count": 29,
   "id": "fc1946b4",
   "metadata": {},
   "outputs": [],
   "source": [
    "pred_labels = predict(eval_docs,pprob,nprob,unique_values)"
   ]
  },
  {
   "cell_type": "code",
   "execution_count": 30,
   "id": "11e9b507",
   "metadata": {},
   "outputs": [],
   "source": [
    "# created a function called accuracy_score to findout the accuracy of the prediction\n",
    "\n",
    "def accuracy_score(pred,actual):\n",
    "    r = 0\n",
    "    for v in range(len(pred)):\n",
    "        if pred[v]==actual[v]:\n",
    "            r+=1\n",
    "        else:\n",
    "            continue\n",
    "    return r/len(pred) * (100)"
   ]
  },
  {
   "cell_type": "code",
   "execution_count": 31,
   "id": "411b05f3",
   "metadata": {},
   "outputs": [
    {
     "name": "stdout",
     "output_type": "stream",
     "text": [
      "Accuracy of testing data : 93.78 %\n"
     ]
    }
   ],
   "source": [
    "print(\"Accuracy of testing data :\",round(accuracy_score(pred_labels,eval_labels),2),\"%\")"
   ]
  },
  {
   "cell_type": "code",
   "execution_count": 32,
   "id": "1d3bb407",
   "metadata": {},
   "outputs": [],
   "source": [
    "# N=no of folds for cross validation\n",
    "N=7"
   ]
  },
  {
   "cell_type": "code",
   "execution_count": 33,
   "id": "75e70674",
   "metadata": {},
   "outputs": [
    {
     "name": "stdout",
     "output_type": "stream",
     "text": [
      "accuracy of 1 Fold is : 94.63 %\n",
      "accuracy of 2 Fold is : 95.3 %\n",
      "accuracy of 3 Fold is : 96.66 %\n",
      "accuracy of 4 Fold is : 95.3 %\n",
      "accuracy of 5 Fold is : 94.31 %\n",
      "accuracy of 6 Fold is : 93.62 %\n",
      "accuracy of 7 Fold is : 94.98 %\n"
     ]
    }
   ],
   "source": [
    "# this cell performs cross validation i,e created 7 folds and finds out the accuracy of each fold.\n",
    "\n",
    "predicted=[]\n",
    "for fold_nbr in range(N):\n",
    "    split_point_1 = int(float(fold_nbr)/N*len(all_docs))\n",
    "    split_point_2 = int(float(fold_nbr+1)/N*len(all_docs))\n",
    "\n",
    "    train_docs_fold = all_docs[:split_point_1] + all_docs[split_point_2:]\n",
    "    train_labels_fold = all_labels[:split_point_1] + all_labels[split_point_2:]\n",
    "    eval_docs_fold = all_docs[split_point_1:split_point_2]\n",
    "    eval_labels_fold = all_labels[split_point_1:split_point_2]\n",
    "    #pprob, nprob = train_nb(train_docs_fold,train_labels_fold,unique_values)\n",
    "    predicted_labels = predict(eval_docs_fold,pprob, nprob,unique_values)\n",
    "    predicted.append(predicted_labels)\n",
    "    print(f\"accuracy of {fold_nbr+1} Fold is :\",round(accuracy_score(predicted_labels,eval_labels_fold),2),\"%\")"
   ]
  }
 ],
 "metadata": {
  "kernelspec": {
   "display_name": "Python 3 (ipykernel)",
   "language": "python",
   "name": "python3"
  },
  "language_info": {
   "codemirror_mode": {
    "name": "ipython",
    "version": 3
   },
   "file_extension": ".py",
   "mimetype": "text/x-python",
   "name": "python",
   "nbconvert_exporter": "python",
   "pygments_lexer": "ipython3",
   "version": "3.9.7"
  }
 },
 "nbformat": 4,
 "nbformat_minor": 5
}
